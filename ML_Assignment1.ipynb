{
  "nbformat": 4,
  "nbformat_minor": 0,
  "metadata": {
    "colab": {
      "name": "ML_Assignment1.ipynb",
      "provenance": [],
      "collapsed_sections": []
    },
    "kernelspec": {
      "name": "python3",
      "display_name": "Python 3"
    },
    "language_info": {
      "name": "python"
    }
  },
  "cells": [
    {
      "cell_type": "markdown",
      "source": [
        "ML_Assignment1\n",
        "Aanjaney Kumar Verma : 2019UCS0085"
      ],
      "metadata": {
        "id": "2UGVS51QPsdd"
      }
    },
    {
      "cell_type": "code",
      "execution_count": 144,
      "metadata": {
        "id": "Jxq9NeRj20QA"
      },
      "outputs": [],
      "source": [
        "import pandas as pd\n",
        "import numpy as np\n",
        "import seaborn as sb\n",
        "import matplotlib.pyplot as plt\n",
        "\n",
        "visitors_df= pd.read_csv(\"https://raw.githubusercontent.com/Akuver/ML_Lab/main/changes-visitors-covid.csv\")\n",
        "covid_df = pd.read_csv(\"https://raw.githubusercontent.com/Akuver/ML_Lab/main/covid-data.csv\")"
      ]
    },
    {
      "cell_type": "code",
      "source": [
        "target_country=\"India\"\n",
        "visitors_df = visitors_df.loc[visitors_df[\"Entity\"]==target_country]\n",
        "covid_df = covid_df.loc[covid_df[\"location\"]==target_country]"
      ],
      "metadata": {
        "id": "40c0t5jx5X-o"
      },
      "execution_count": 145,
      "outputs": []
    },
    {
      "cell_type": "code",
      "source": [
        "visitors_df.head(5)"
      ],
      "metadata": {
        "colab": {
          "base_uri": "https://localhost:8080/",
          "height": 206
        },
        "id": "SXDCVyTKXSwk",
        "outputId": "d9fed6ad-a4fd-4d6a-a376-c98aaf1c62ab"
      },
      "execution_count": 146,
      "outputs": [
        {
          "output_type": "execute_result",
          "data": {
            "text/plain": [
              "      Entity Code         Day  retail_and_recreation  grocery_and_pharmacy  \\\n",
              "23897  India  IND  2020-02-17                  0.667                 1.667   \n",
              "23898  India  IND  2020-02-18                  0.500                 1.750   \n",
              "23899  India  IND  2020-02-19                  0.400                 1.800   \n",
              "23900  India  IND  2020-02-20                  0.500                 2.000   \n",
              "23901  India  IND  2020-02-21                 -0.143                 1.714   \n",
              "\n",
              "       residential  transit_stations  parks  workplaces  \n",
              "23897        0.000             2.000  3.000       3.000  \n",
              "23898        0.000             2.000  3.250       3.000  \n",
              "23899        0.200             1.800  2.800       3.200  \n",
              "23900        0.000             2.333  3.167       3.333  \n",
              "23901        0.714             1.429  3.571       0.143  "
            ],
            "text/html": [
              "\n",
              "  <div id=\"df-a3d4e667-42ee-477a-b423-d11d928f9a1c\">\n",
              "    <div class=\"colab-df-container\">\n",
              "      <div>\n",
              "<style scoped>\n",
              "    .dataframe tbody tr th:only-of-type {\n",
              "        vertical-align: middle;\n",
              "    }\n",
              "\n",
              "    .dataframe tbody tr th {\n",
              "        vertical-align: top;\n",
              "    }\n",
              "\n",
              "    .dataframe thead th {\n",
              "        text-align: right;\n",
              "    }\n",
              "</style>\n",
              "<table border=\"1\" class=\"dataframe\">\n",
              "  <thead>\n",
              "    <tr style=\"text-align: right;\">\n",
              "      <th></th>\n",
              "      <th>Entity</th>\n",
              "      <th>Code</th>\n",
              "      <th>Day</th>\n",
              "      <th>retail_and_recreation</th>\n",
              "      <th>grocery_and_pharmacy</th>\n",
              "      <th>residential</th>\n",
              "      <th>transit_stations</th>\n",
              "      <th>parks</th>\n",
              "      <th>workplaces</th>\n",
              "    </tr>\n",
              "  </thead>\n",
              "  <tbody>\n",
              "    <tr>\n",
              "      <th>23897</th>\n",
              "      <td>India</td>\n",
              "      <td>IND</td>\n",
              "      <td>2020-02-17</td>\n",
              "      <td>0.667</td>\n",
              "      <td>1.667</td>\n",
              "      <td>0.000</td>\n",
              "      <td>2.000</td>\n",
              "      <td>3.000</td>\n",
              "      <td>3.000</td>\n",
              "    </tr>\n",
              "    <tr>\n",
              "      <th>23898</th>\n",
              "      <td>India</td>\n",
              "      <td>IND</td>\n",
              "      <td>2020-02-18</td>\n",
              "      <td>0.500</td>\n",
              "      <td>1.750</td>\n",
              "      <td>0.000</td>\n",
              "      <td>2.000</td>\n",
              "      <td>3.250</td>\n",
              "      <td>3.000</td>\n",
              "    </tr>\n",
              "    <tr>\n",
              "      <th>23899</th>\n",
              "      <td>India</td>\n",
              "      <td>IND</td>\n",
              "      <td>2020-02-19</td>\n",
              "      <td>0.400</td>\n",
              "      <td>1.800</td>\n",
              "      <td>0.200</td>\n",
              "      <td>1.800</td>\n",
              "      <td>2.800</td>\n",
              "      <td>3.200</td>\n",
              "    </tr>\n",
              "    <tr>\n",
              "      <th>23900</th>\n",
              "      <td>India</td>\n",
              "      <td>IND</td>\n",
              "      <td>2020-02-20</td>\n",
              "      <td>0.500</td>\n",
              "      <td>2.000</td>\n",
              "      <td>0.000</td>\n",
              "      <td>2.333</td>\n",
              "      <td>3.167</td>\n",
              "      <td>3.333</td>\n",
              "    </tr>\n",
              "    <tr>\n",
              "      <th>23901</th>\n",
              "      <td>India</td>\n",
              "      <td>IND</td>\n",
              "      <td>2020-02-21</td>\n",
              "      <td>-0.143</td>\n",
              "      <td>1.714</td>\n",
              "      <td>0.714</td>\n",
              "      <td>1.429</td>\n",
              "      <td>3.571</td>\n",
              "      <td>0.143</td>\n",
              "    </tr>\n",
              "  </tbody>\n",
              "</table>\n",
              "</div>\n",
              "      <button class=\"colab-df-convert\" onclick=\"convertToInteractive('df-a3d4e667-42ee-477a-b423-d11d928f9a1c')\"\n",
              "              title=\"Convert this dataframe to an interactive table.\"\n",
              "              style=\"display:none;\">\n",
              "        \n",
              "  <svg xmlns=\"http://www.w3.org/2000/svg\" height=\"24px\"viewBox=\"0 0 24 24\"\n",
              "       width=\"24px\">\n",
              "    <path d=\"M0 0h24v24H0V0z\" fill=\"none\"/>\n",
              "    <path d=\"M18.56 5.44l.94 2.06.94-2.06 2.06-.94-2.06-.94-.94-2.06-.94 2.06-2.06.94zm-11 1L8.5 8.5l.94-2.06 2.06-.94-2.06-.94L8.5 2.5l-.94 2.06-2.06.94zm10 10l.94 2.06.94-2.06 2.06-.94-2.06-.94-.94-2.06-.94 2.06-2.06.94z\"/><path d=\"M17.41 7.96l-1.37-1.37c-.4-.4-.92-.59-1.43-.59-.52 0-1.04.2-1.43.59L10.3 9.45l-7.72 7.72c-.78.78-.78 2.05 0 2.83L4 21.41c.39.39.9.59 1.41.59.51 0 1.02-.2 1.41-.59l7.78-7.78 2.81-2.81c.8-.78.8-2.07 0-2.86zM5.41 20L4 18.59l7.72-7.72 1.47 1.35L5.41 20z\"/>\n",
              "  </svg>\n",
              "      </button>\n",
              "      \n",
              "  <style>\n",
              "    .colab-df-container {\n",
              "      display:flex;\n",
              "      flex-wrap:wrap;\n",
              "      gap: 12px;\n",
              "    }\n",
              "\n",
              "    .colab-df-convert {\n",
              "      background-color: #E8F0FE;\n",
              "      border: none;\n",
              "      border-radius: 50%;\n",
              "      cursor: pointer;\n",
              "      display: none;\n",
              "      fill: #1967D2;\n",
              "      height: 32px;\n",
              "      padding: 0 0 0 0;\n",
              "      width: 32px;\n",
              "    }\n",
              "\n",
              "    .colab-df-convert:hover {\n",
              "      background-color: #E2EBFA;\n",
              "      box-shadow: 0px 1px 2px rgba(60, 64, 67, 0.3), 0px 1px 3px 1px rgba(60, 64, 67, 0.15);\n",
              "      fill: #174EA6;\n",
              "    }\n",
              "\n",
              "    [theme=dark] .colab-df-convert {\n",
              "      background-color: #3B4455;\n",
              "      fill: #D2E3FC;\n",
              "    }\n",
              "\n",
              "    [theme=dark] .colab-df-convert:hover {\n",
              "      background-color: #434B5C;\n",
              "      box-shadow: 0px 1px 3px 1px rgba(0, 0, 0, 0.15);\n",
              "      filter: drop-shadow(0px 1px 2px rgba(0, 0, 0, 0.3));\n",
              "      fill: #FFFFFF;\n",
              "    }\n",
              "  </style>\n",
              "\n",
              "      <script>\n",
              "        const buttonEl =\n",
              "          document.querySelector('#df-a3d4e667-42ee-477a-b423-d11d928f9a1c button.colab-df-convert');\n",
              "        buttonEl.style.display =\n",
              "          google.colab.kernel.accessAllowed ? 'block' : 'none';\n",
              "\n",
              "        async function convertToInteractive(key) {\n",
              "          const element = document.querySelector('#df-a3d4e667-42ee-477a-b423-d11d928f9a1c');\n",
              "          const dataTable =\n",
              "            await google.colab.kernel.invokeFunction('convertToInteractive',\n",
              "                                                     [key], {});\n",
              "          if (!dataTable) return;\n",
              "\n",
              "          const docLinkHtml = 'Like what you see? Visit the ' +\n",
              "            '<a target=\"_blank\" href=https://colab.research.google.com/notebooks/data_table.ipynb>data table notebook</a>'\n",
              "            + ' to learn more about interactive tables.';\n",
              "          element.innerHTML = '';\n",
              "          dataTable['output_type'] = 'display_data';\n",
              "          await google.colab.output.renderOutput(dataTable, element);\n",
              "          const docLink = document.createElement('div');\n",
              "          docLink.innerHTML = docLinkHtml;\n",
              "          element.appendChild(docLink);\n",
              "        }\n",
              "      </script>\n",
              "    </div>\n",
              "  </div>\n",
              "  "
            ]
          },
          "metadata": {},
          "execution_count": 146
        }
      ]
    },
    {
      "cell_type": "code",
      "source": [
        "columns = ['location','date','new_cases']\n",
        "covid_df=covid_df[columns]\n",
        "covid_df.head(5)"
      ],
      "metadata": {
        "colab": {
          "base_uri": "https://localhost:8080/",
          "height": 206
        },
        "id": "13Da_7BDXiJ9",
        "outputId": "7984e01e-2d17-4ea7-a300-c06e04988c34"
      },
      "execution_count": 96,
      "outputs": [
        {
          "output_type": "execute_result",
          "data": {
            "text/plain": [
              "      location        date  new_cases\n",
              "38584    India  2020-01-30        1.0\n",
              "38585    India  2020-01-31        0.0\n",
              "38586    India  2020-02-01        0.0\n",
              "38587    India  2020-02-02        1.0\n",
              "38588    India  2020-02-03        1.0"
            ],
            "text/html": [
              "\n",
              "  <div id=\"df-b515647c-5e41-4a38-9dc4-a65544061c8b\">\n",
              "    <div class=\"colab-df-container\">\n",
              "      <div>\n",
              "<style scoped>\n",
              "    .dataframe tbody tr th:only-of-type {\n",
              "        vertical-align: middle;\n",
              "    }\n",
              "\n",
              "    .dataframe tbody tr th {\n",
              "        vertical-align: top;\n",
              "    }\n",
              "\n",
              "    .dataframe thead th {\n",
              "        text-align: right;\n",
              "    }\n",
              "</style>\n",
              "<table border=\"1\" class=\"dataframe\">\n",
              "  <thead>\n",
              "    <tr style=\"text-align: right;\">\n",
              "      <th></th>\n",
              "      <th>location</th>\n",
              "      <th>date</th>\n",
              "      <th>new_cases</th>\n",
              "    </tr>\n",
              "  </thead>\n",
              "  <tbody>\n",
              "    <tr>\n",
              "      <th>38584</th>\n",
              "      <td>India</td>\n",
              "      <td>2020-01-30</td>\n",
              "      <td>1.0</td>\n",
              "    </tr>\n",
              "    <tr>\n",
              "      <th>38585</th>\n",
              "      <td>India</td>\n",
              "      <td>2020-01-31</td>\n",
              "      <td>0.0</td>\n",
              "    </tr>\n",
              "    <tr>\n",
              "      <th>38586</th>\n",
              "      <td>India</td>\n",
              "      <td>2020-02-01</td>\n",
              "      <td>0.0</td>\n",
              "    </tr>\n",
              "    <tr>\n",
              "      <th>38587</th>\n",
              "      <td>India</td>\n",
              "      <td>2020-02-02</td>\n",
              "      <td>1.0</td>\n",
              "    </tr>\n",
              "    <tr>\n",
              "      <th>38588</th>\n",
              "      <td>India</td>\n",
              "      <td>2020-02-03</td>\n",
              "      <td>1.0</td>\n",
              "    </tr>\n",
              "  </tbody>\n",
              "</table>\n",
              "</div>\n",
              "      <button class=\"colab-df-convert\" onclick=\"convertToInteractive('df-b515647c-5e41-4a38-9dc4-a65544061c8b')\"\n",
              "              title=\"Convert this dataframe to an interactive table.\"\n",
              "              style=\"display:none;\">\n",
              "        \n",
              "  <svg xmlns=\"http://www.w3.org/2000/svg\" height=\"24px\"viewBox=\"0 0 24 24\"\n",
              "       width=\"24px\">\n",
              "    <path d=\"M0 0h24v24H0V0z\" fill=\"none\"/>\n",
              "    <path d=\"M18.56 5.44l.94 2.06.94-2.06 2.06-.94-2.06-.94-.94-2.06-.94 2.06-2.06.94zm-11 1L8.5 8.5l.94-2.06 2.06-.94-2.06-.94L8.5 2.5l-.94 2.06-2.06.94zm10 10l.94 2.06.94-2.06 2.06-.94-2.06-.94-.94-2.06-.94 2.06-2.06.94z\"/><path d=\"M17.41 7.96l-1.37-1.37c-.4-.4-.92-.59-1.43-.59-.52 0-1.04.2-1.43.59L10.3 9.45l-7.72 7.72c-.78.78-.78 2.05 0 2.83L4 21.41c.39.39.9.59 1.41.59.51 0 1.02-.2 1.41-.59l7.78-7.78 2.81-2.81c.8-.78.8-2.07 0-2.86zM5.41 20L4 18.59l7.72-7.72 1.47 1.35L5.41 20z\"/>\n",
              "  </svg>\n",
              "      </button>\n",
              "      \n",
              "  <style>\n",
              "    .colab-df-container {\n",
              "      display:flex;\n",
              "      flex-wrap:wrap;\n",
              "      gap: 12px;\n",
              "    }\n",
              "\n",
              "    .colab-df-convert {\n",
              "      background-color: #E8F0FE;\n",
              "      border: none;\n",
              "      border-radius: 50%;\n",
              "      cursor: pointer;\n",
              "      display: none;\n",
              "      fill: #1967D2;\n",
              "      height: 32px;\n",
              "      padding: 0 0 0 0;\n",
              "      width: 32px;\n",
              "    }\n",
              "\n",
              "    .colab-df-convert:hover {\n",
              "      background-color: #E2EBFA;\n",
              "      box-shadow: 0px 1px 2px rgba(60, 64, 67, 0.3), 0px 1px 3px 1px rgba(60, 64, 67, 0.15);\n",
              "      fill: #174EA6;\n",
              "    }\n",
              "\n",
              "    [theme=dark] .colab-df-convert {\n",
              "      background-color: #3B4455;\n",
              "      fill: #D2E3FC;\n",
              "    }\n",
              "\n",
              "    [theme=dark] .colab-df-convert:hover {\n",
              "      background-color: #434B5C;\n",
              "      box-shadow: 0px 1px 3px 1px rgba(0, 0, 0, 0.15);\n",
              "      filter: drop-shadow(0px 1px 2px rgba(0, 0, 0, 0.3));\n",
              "      fill: #FFFFFF;\n",
              "    }\n",
              "  </style>\n",
              "\n",
              "      <script>\n",
              "        const buttonEl =\n",
              "          document.querySelector('#df-b515647c-5e41-4a38-9dc4-a65544061c8b button.colab-df-convert');\n",
              "        buttonEl.style.display =\n",
              "          google.colab.kernel.accessAllowed ? 'block' : 'none';\n",
              "\n",
              "        async function convertToInteractive(key) {\n",
              "          const element = document.querySelector('#df-b515647c-5e41-4a38-9dc4-a65544061c8b');\n",
              "          const dataTable =\n",
              "            await google.colab.kernel.invokeFunction('convertToInteractive',\n",
              "                                                     [key], {});\n",
              "          if (!dataTable) return;\n",
              "\n",
              "          const docLinkHtml = 'Like what you see? Visit the ' +\n",
              "            '<a target=\"_blank\" href=https://colab.research.google.com/notebooks/data_table.ipynb>data table notebook</a>'\n",
              "            + ' to learn more about interactive tables.';\n",
              "          element.innerHTML = '';\n",
              "          dataTable['output_type'] = 'display_data';\n",
              "          await google.colab.output.renderOutput(dataTable, element);\n",
              "          const docLink = document.createElement('div');\n",
              "          docLink.innerHTML = docLinkHtml;\n",
              "          element.appendChild(docLink);\n",
              "        }\n",
              "      </script>\n",
              "    </div>\n",
              "  </div>\n",
              "  "
            ]
          },
          "metadata": {},
          "execution_count": 96
        }
      ]
    },
    {
      "cell_type": "code",
      "source": [
        "visitors_df.loc['Day']=pd.to_datetime(visitors_df['Day'])"
      ],
      "metadata": {
        "colab": {
          "base_uri": "https://localhost:8080/"
        },
        "id": "3K0Lo3eVX1Lb",
        "outputId": "772bd265-9908-4afa-a12e-3f91cd8ae4da"
      },
      "execution_count": 97,
      "outputs": [
        {
          "output_type": "stream",
          "name": "stderr",
          "text": [
            "/usr/local/lib/python3.7/dist-packages/pandas/core/indexing.py:723: SettingWithCopyWarning: \n",
            "A value is trying to be set on a copy of a slice from a DataFrame\n",
            "\n",
            "See the caveats in the documentation: https://pandas.pydata.org/pandas-docs/stable/user_guide/indexing.html#returning-a-view-versus-a-copy\n",
            "  iloc._setitem_with_indexer(indexer, value, self.name)\n"
          ]
        }
      ]
    },
    {
      "cell_type": "code",
      "source": [
        "covid_df.loc['date'] = pd.to_datetime(covid_df['date'])"
      ],
      "metadata": {
        "id": "rCW_51pwYMmG"
      },
      "execution_count": 98,
      "outputs": []
    },
    {
      "cell_type": "code",
      "source": [
        "visitors_df.rename(columns = {'Day':'date'}, inplace = True)"
      ],
      "metadata": {
        "colab": {
          "base_uri": "https://localhost:8080/"
        },
        "id": "DaGfDu3xYZSo",
        "outputId": "828ac500-7e3c-4a5c-d05f-c9f8736fc941"
      },
      "execution_count": 99,
      "outputs": [
        {
          "output_type": "stream",
          "name": "stderr",
          "text": [
            "/usr/local/lib/python3.7/dist-packages/pandas/core/frame.py:5047: SettingWithCopyWarning: \n",
            "A value is trying to be set on a copy of a slice from a DataFrame\n",
            "\n",
            "See the caveats in the documentation: https://pandas.pydata.org/pandas-docs/stable/user_guide/indexing.html#returning-a-view-versus-a-copy\n",
            "  errors=errors,\n"
          ]
        }
      ]
    },
    {
      "cell_type": "code",
      "source": [
        "df = visitors_df.merge(covid_df,how='inner',on=['date'])\n",
        "df.head(5)"
      ],
      "metadata": {
        "colab": {
          "base_uri": "https://localhost:8080/",
          "height": 206
        },
        "id": "ObdD8Vf5Yen_",
        "outputId": "423dc02d-05fa-4297-cf18-fd371dc08fde"
      },
      "execution_count": 100,
      "outputs": [
        {
          "output_type": "execute_result",
          "data": {
            "text/plain": [
              "  Entity Code        date retail_and_recreation grocery_and_pharmacy  \\\n",
              "0  India  IND  2020-02-17                 0.667                1.667   \n",
              "1  India  IND  2020-02-18                   0.5                 1.75   \n",
              "2  India  IND  2020-02-19                   0.4                  1.8   \n",
              "3  India  IND  2020-02-20                   0.5                  2.0   \n",
              "4  India  IND  2020-02-21                -0.143                1.714   \n",
              "\n",
              "  residential transit_stations  parks workplaces location new_cases  \n",
              "0         0.0              2.0    3.0        3.0    India       0.0  \n",
              "1         0.0              2.0   3.25        3.0    India       0.0  \n",
              "2         0.2              1.8    2.8        3.2    India       0.0  \n",
              "3         0.0            2.333  3.167      3.333    India       0.0  \n",
              "4       0.714            1.429  3.571      0.143    India       0.0  "
            ],
            "text/html": [
              "\n",
              "  <div id=\"df-ba0fb4d4-a052-41d3-8981-231e0a0b1e2f\">\n",
              "    <div class=\"colab-df-container\">\n",
              "      <div>\n",
              "<style scoped>\n",
              "    .dataframe tbody tr th:only-of-type {\n",
              "        vertical-align: middle;\n",
              "    }\n",
              "\n",
              "    .dataframe tbody tr th {\n",
              "        vertical-align: top;\n",
              "    }\n",
              "\n",
              "    .dataframe thead th {\n",
              "        text-align: right;\n",
              "    }\n",
              "</style>\n",
              "<table border=\"1\" class=\"dataframe\">\n",
              "  <thead>\n",
              "    <tr style=\"text-align: right;\">\n",
              "      <th></th>\n",
              "      <th>Entity</th>\n",
              "      <th>Code</th>\n",
              "      <th>date</th>\n",
              "      <th>retail_and_recreation</th>\n",
              "      <th>grocery_and_pharmacy</th>\n",
              "      <th>residential</th>\n",
              "      <th>transit_stations</th>\n",
              "      <th>parks</th>\n",
              "      <th>workplaces</th>\n",
              "      <th>location</th>\n",
              "      <th>new_cases</th>\n",
              "    </tr>\n",
              "  </thead>\n",
              "  <tbody>\n",
              "    <tr>\n",
              "      <th>0</th>\n",
              "      <td>India</td>\n",
              "      <td>IND</td>\n",
              "      <td>2020-02-17</td>\n",
              "      <td>0.667</td>\n",
              "      <td>1.667</td>\n",
              "      <td>0.0</td>\n",
              "      <td>2.0</td>\n",
              "      <td>3.0</td>\n",
              "      <td>3.0</td>\n",
              "      <td>India</td>\n",
              "      <td>0.0</td>\n",
              "    </tr>\n",
              "    <tr>\n",
              "      <th>1</th>\n",
              "      <td>India</td>\n",
              "      <td>IND</td>\n",
              "      <td>2020-02-18</td>\n",
              "      <td>0.5</td>\n",
              "      <td>1.75</td>\n",
              "      <td>0.0</td>\n",
              "      <td>2.0</td>\n",
              "      <td>3.25</td>\n",
              "      <td>3.0</td>\n",
              "      <td>India</td>\n",
              "      <td>0.0</td>\n",
              "    </tr>\n",
              "    <tr>\n",
              "      <th>2</th>\n",
              "      <td>India</td>\n",
              "      <td>IND</td>\n",
              "      <td>2020-02-19</td>\n",
              "      <td>0.4</td>\n",
              "      <td>1.8</td>\n",
              "      <td>0.2</td>\n",
              "      <td>1.8</td>\n",
              "      <td>2.8</td>\n",
              "      <td>3.2</td>\n",
              "      <td>India</td>\n",
              "      <td>0.0</td>\n",
              "    </tr>\n",
              "    <tr>\n",
              "      <th>3</th>\n",
              "      <td>India</td>\n",
              "      <td>IND</td>\n",
              "      <td>2020-02-20</td>\n",
              "      <td>0.5</td>\n",
              "      <td>2.0</td>\n",
              "      <td>0.0</td>\n",
              "      <td>2.333</td>\n",
              "      <td>3.167</td>\n",
              "      <td>3.333</td>\n",
              "      <td>India</td>\n",
              "      <td>0.0</td>\n",
              "    </tr>\n",
              "    <tr>\n",
              "      <th>4</th>\n",
              "      <td>India</td>\n",
              "      <td>IND</td>\n",
              "      <td>2020-02-21</td>\n",
              "      <td>-0.143</td>\n",
              "      <td>1.714</td>\n",
              "      <td>0.714</td>\n",
              "      <td>1.429</td>\n",
              "      <td>3.571</td>\n",
              "      <td>0.143</td>\n",
              "      <td>India</td>\n",
              "      <td>0.0</td>\n",
              "    </tr>\n",
              "  </tbody>\n",
              "</table>\n",
              "</div>\n",
              "      <button class=\"colab-df-convert\" onclick=\"convertToInteractive('df-ba0fb4d4-a052-41d3-8981-231e0a0b1e2f')\"\n",
              "              title=\"Convert this dataframe to an interactive table.\"\n",
              "              style=\"display:none;\">\n",
              "        \n",
              "  <svg xmlns=\"http://www.w3.org/2000/svg\" height=\"24px\"viewBox=\"0 0 24 24\"\n",
              "       width=\"24px\">\n",
              "    <path d=\"M0 0h24v24H0V0z\" fill=\"none\"/>\n",
              "    <path d=\"M18.56 5.44l.94 2.06.94-2.06 2.06-.94-2.06-.94-.94-2.06-.94 2.06-2.06.94zm-11 1L8.5 8.5l.94-2.06 2.06-.94-2.06-.94L8.5 2.5l-.94 2.06-2.06.94zm10 10l.94 2.06.94-2.06 2.06-.94-2.06-.94-.94-2.06-.94 2.06-2.06.94z\"/><path d=\"M17.41 7.96l-1.37-1.37c-.4-.4-.92-.59-1.43-.59-.52 0-1.04.2-1.43.59L10.3 9.45l-7.72 7.72c-.78.78-.78 2.05 0 2.83L4 21.41c.39.39.9.59 1.41.59.51 0 1.02-.2 1.41-.59l7.78-7.78 2.81-2.81c.8-.78.8-2.07 0-2.86zM5.41 20L4 18.59l7.72-7.72 1.47 1.35L5.41 20z\"/>\n",
              "  </svg>\n",
              "      </button>\n",
              "      \n",
              "  <style>\n",
              "    .colab-df-container {\n",
              "      display:flex;\n",
              "      flex-wrap:wrap;\n",
              "      gap: 12px;\n",
              "    }\n",
              "\n",
              "    .colab-df-convert {\n",
              "      background-color: #E8F0FE;\n",
              "      border: none;\n",
              "      border-radius: 50%;\n",
              "      cursor: pointer;\n",
              "      display: none;\n",
              "      fill: #1967D2;\n",
              "      height: 32px;\n",
              "      padding: 0 0 0 0;\n",
              "      width: 32px;\n",
              "    }\n",
              "\n",
              "    .colab-df-convert:hover {\n",
              "      background-color: #E2EBFA;\n",
              "      box-shadow: 0px 1px 2px rgba(60, 64, 67, 0.3), 0px 1px 3px 1px rgba(60, 64, 67, 0.15);\n",
              "      fill: #174EA6;\n",
              "    }\n",
              "\n",
              "    [theme=dark] .colab-df-convert {\n",
              "      background-color: #3B4455;\n",
              "      fill: #D2E3FC;\n",
              "    }\n",
              "\n",
              "    [theme=dark] .colab-df-convert:hover {\n",
              "      background-color: #434B5C;\n",
              "      box-shadow: 0px 1px 3px 1px rgba(0, 0, 0, 0.15);\n",
              "      filter: drop-shadow(0px 1px 2px rgba(0, 0, 0, 0.3));\n",
              "      fill: #FFFFFF;\n",
              "    }\n",
              "  </style>\n",
              "\n",
              "      <script>\n",
              "        const buttonEl =\n",
              "          document.querySelector('#df-ba0fb4d4-a052-41d3-8981-231e0a0b1e2f button.colab-df-convert');\n",
              "        buttonEl.style.display =\n",
              "          google.colab.kernel.accessAllowed ? 'block' : 'none';\n",
              "\n",
              "        async function convertToInteractive(key) {\n",
              "          const element = document.querySelector('#df-ba0fb4d4-a052-41d3-8981-231e0a0b1e2f');\n",
              "          const dataTable =\n",
              "            await google.colab.kernel.invokeFunction('convertToInteractive',\n",
              "                                                     [key], {});\n",
              "          if (!dataTable) return;\n",
              "\n",
              "          const docLinkHtml = 'Like what you see? Visit the ' +\n",
              "            '<a target=\"_blank\" href=https://colab.research.google.com/notebooks/data_table.ipynb>data table notebook</a>'\n",
              "            + ' to learn more about interactive tables.';\n",
              "          element.innerHTML = '';\n",
              "          dataTable['output_type'] = 'display_data';\n",
              "          await google.colab.output.renderOutput(dataTable, element);\n",
              "          const docLink = document.createElement('div');\n",
              "          docLink.innerHTML = docLinkHtml;\n",
              "          element.appendChild(docLink);\n",
              "        }\n",
              "      </script>\n",
              "    </div>\n",
              "  </div>\n",
              "  "
            ]
          },
          "metadata": {},
          "execution_count": 100
        }
      ]
    },
    {
      "cell_type": "code",
      "source": [
        "df.dropna(inplace=True)"
      ],
      "metadata": {
        "id": "ag7CIbndY8K3"
      },
      "execution_count": 101,
      "outputs": []
    },
    {
      "cell_type": "code",
      "source": [
        "df=df.drop(columns=[\"Entity\",\"Code\",\"location\"])"
      ],
      "metadata": {
        "id": "YGBl3oBcZRu1"
      },
      "execution_count": 102,
      "outputs": []
    },
    {
      "cell_type": "code",
      "source": [
        "col = list(df.columns)\n",
        "col.remove('date')\n",
        "df[col] = df[col].astype(float)\n",
        "df.drop(columns = ['date'],inplace = True)\n",
        "df.info()"
      ],
      "metadata": {
        "colab": {
          "base_uri": "https://localhost:8080/"
        },
        "id": "UYNMnk1caNW2",
        "outputId": "52b20d5d-03e7-4c44-c037-0f0588d7526a"
      },
      "execution_count": 103,
      "outputs": [
        {
          "output_type": "stream",
          "name": "stdout",
          "text": [
            "<class 'pandas.core.frame.DataFrame'>\n",
            "Int64Index: 471 entries, 0 to 470\n",
            "Data columns (total 7 columns):\n",
            " #   Column                 Non-Null Count  Dtype  \n",
            "---  ------                 --------------  -----  \n",
            " 0   retail_and_recreation  471 non-null    float64\n",
            " 1   grocery_and_pharmacy   471 non-null    float64\n",
            " 2   residential            471 non-null    float64\n",
            " 3   transit_stations       471 non-null    float64\n",
            " 4   parks                  471 non-null    float64\n",
            " 5   workplaces             471 non-null    float64\n",
            " 6   new_cases              471 non-null    float64\n",
            "dtypes: float64(7)\n",
            "memory usage: 29.4 KB\n"
          ]
        }
      ]
    },
    {
      "cell_type": "code",
      "source": [
        "def mse(y, y_predict) :\n",
        "  return np.mean((y-y_predict)**2)"
      ],
      "metadata": {
        "id": "QQg8YEjnam-c"
      },
      "execution_count": 104,
      "outputs": []
    },
    {
      "cell_type": "code",
      "source": [
        "# ID3-A\n",
        "class ID3_A_regressor:\n",
        "    def __init__(self):\n",
        "      self.dec_tree = dict()\n",
        "      self.depth = 0\n",
        "\n",
        "    def fit(self, input_features, target_variable,max_depth=float('inf'),min_sdr=0,min_instances=15):\n",
        "      data = input_features.copy()\n",
        "      data[target_variable.name] = target_variable\n",
        "      \n",
        "      self.depth =0\n",
        "\n",
        "      self.dec_tree = dict()\n",
        "      self.dec_tree = self.decision_tree(data,data,target_variable.name,max_depth,min_sdr,min_instances)\n",
        "\n",
        "    def SDR(self,input_data, feature_name,feature_value, target_name):\n",
        "      #calculate the standard deviation reduction for a particular feature value\n",
        "\n",
        "        if not pd.api.types.is_numeric_dtype(input_data[feature_name]):\n",
        "            return None\n",
        "        parent_sd = np.std(input_data[target_name])\n",
        "        \n",
        "        mask = input_data[feature_name]<=feature_value\n",
        "        \n",
        "        class_1 = input_data[mask]\n",
        "        class_2 = input_data[~mask]\n",
        "        \n",
        "        prob_1 = class_1.shape[0]/(class_1.shape[0]+class_2.shape[0])\n",
        "        prob_2 = 1-prob_1\n",
        "        \n",
        "        weighted_sd =np.std(class_1[target_name])*prob_1+np.std(class_2[target_name])*prob_2\n",
        "\n",
        "        return parent_sd - weighted_sd\n",
        "    \n",
        "    def feature_split_point(self,input_data, feature_name,target_name):\n",
        "        \n",
        "        inp_df = input_data.sort_values(by=feature_name)\n",
        "        unique_val = inp_df[feature_name].unique()\n",
        "\n",
        "        #mean of adjacent values array \n",
        "        split_candidates = [(unique_val[i] + unique_val[i+1])/2 for i in range(unique_val.shape[0]-1)]\n",
        "        \n",
        "        sdr_max = -1\n",
        "        best_split_value = None\n",
        "        \n",
        "        for value in split_candidates :\n",
        "            sdr= self.SDR(inp_df,feature_name,value,target_name)\n",
        "            if sdr>sdr_max :\n",
        "                sdr_max = sdr\n",
        "                best_split_value = value\n",
        "                \n",
        "        return best_split_value,sdr_max\n",
        "      \n",
        "    def best_split(self,input_data,target_name):\n",
        "      #function to calulate the best_split point for any sub-dataset\n",
        "      best_feature = None\n",
        "      best_split_val = None\n",
        "      best_sdr = -1\n",
        "\n",
        "      features = list(input_data.columns)\n",
        "      features.remove(target_name)\n",
        "\n",
        "      for feature in features:  \n",
        "        split_val, sdr = self.feature_split_point(input_data,feature,target_name)\n",
        "\n",
        "        if sdr>0 and sdr>best_sdr : \n",
        "          best_sdr = sdr\n",
        "          best_split_val = split_val\n",
        "          best_feature = feature\n",
        "\n",
        "      return best_feature,best_split_val,best_sdr\n",
        "    \n",
        "    def split_data(self,input_data,feature_name,feature_value):\n",
        "      #split the data into two halfs depending on the feature value\n",
        "      \n",
        "      if feature_name in input_data.columns : \n",
        "        mask = input_data[feature_name]<=feature_value\n",
        "        lhs_data = input_data[mask]\n",
        "        rhs_data = input_data[~mask]\n",
        "\n",
        "        return lhs_data,rhs_data\n",
        "      else:\n",
        "        return None\n",
        "    \n",
        "    def decision_tree(self, input_data, original_data,target_name,max_depth=float('inf'),curr_depth=0,min_instances=0,min_sdr=0, parent_node_mean = None):\n",
        "       \n",
        "        \n",
        "        self.depth = max(self.depth,curr_depth)\n",
        "        if len(input_data)==0:\n",
        "          return np.mean(original_data[target_name])\n",
        "\n",
        "        elif len(input_data) <= min_instances :\n",
        "          return np.mean(input_data[target_name])\n",
        "        \n",
        "        elif len(input_data.columns)==0 or curr_depth == max_depth :\n",
        "          return parent_node_mean\n",
        "\n",
        "        else:\n",
        "          parent_node_mean = np.mean(input_data[target_name])  \n",
        "          \n",
        "          best_feature,best_split_val,best_sdr = self.best_split(input_data,target_name)\n",
        "          \n",
        "          if best_feature is not None:  \n",
        "            if best_sdr <min_sdr :\n",
        "              return parent_node_mean\n",
        "            \n",
        "            tree = {(best_feature,best_split_val): []}\n",
        "\n",
        "            #lhs consists of <= portion while rhs comprises of > portion of the feature value\n",
        "            lhs,rhs = self.split_data(input_data,best_feature,best_split_val)\n",
        "            \n",
        "\n",
        "            sub_tree_1 = self.decision_tree(lhs,original_data,target_name,max_depth,curr_depth+1,min_instances,min_sdr,parent_node_mean)\n",
        "            sub_tree_2 = self.decision_tree(rhs,original_data,target_name,max_depth,curr_depth+1,min_instances,min_sdr,parent_node_mean)\n",
        "\n",
        "            if type(sub_tree_1) == float and type(sub_tree_2) == float and sub_tree_1 ==sub_tree_2 :\n",
        "              return sub_tree_1\n",
        "\n",
        "            tree[(best_feature,best_split_val)].append(sub_tree_1)\n",
        "            tree[(best_feature,best_split_val)].append(sub_tree_2)\n",
        "\n",
        "            return tree\n",
        "          else:\n",
        "            return parent_node_mean   \n",
        "    \n",
        "    def pred(self,X,columns,tree):\n",
        "      #function to predict the target value\n",
        "      \n",
        "      for attr in list(columns): \n",
        "        \n",
        "        features = [i[0] for i in list(tree.keys())]\n",
        "\n",
        "        if attr in features:\n",
        "          ind = features.index(attr)    \n",
        "          key = list(tree.keys())[ind]  \n",
        "          best_split_val = key[1]       \n",
        "          \n",
        "          if X[attr]<=best_split_val:\n",
        "            answer = tree[key][0]\n",
        "          else:\n",
        "            answer = tree[key][1]\n",
        "\n",
        "          if type(answer)==float: \n",
        "            return answer\n",
        "          else:\n",
        "            return self.pred(X,columns,answer)\n",
        "\n",
        "    def predict(self,X) :\n",
        "      # apply pred function to the entire column\n",
        "      Y_pred = X.apply(self.pred, axis=1,args=(X.columns,self.dec_tree, )) \n",
        "      return Y_pred\n",
        "\n",
        "\n",
        "\n",
        "\n",
        "\n"
      ],
      "metadata": {
        "id": "tH5arXo-bNIX"
      },
      "execution_count": 105,
      "outputs": []
    },
    {
      "cell_type": "code",
      "source": [
        "def RSS(X):\n",
        "  if not pd.api.types.is_numeric_dtype(X):\n",
        "      return -1\n",
        "  mn = np.mean(X)\n",
        "  rss = np.sum((X-mn)**2)\n",
        "  return rss"
      ],
      "metadata": {
        "id": "oYzqvZnDc0lG"
      },
      "execution_count": 106,
      "outputs": []
    },
    {
      "cell_type": "code",
      "source": [
        "# CART \n",
        "\n",
        "class CART_regressor:\n",
        "    def __init__(self):\n",
        "      self.dec_tree = dict()\n",
        "      self.depth = 0\n",
        "\n",
        "    def fit(self, input_features, target_variable,max_depth=float('inf'),min_rssr=0,min_instances=0):\n",
        "      data = input_features.copy()\n",
        "      data[target_variable.name] = target_variable\n",
        "      \n",
        "      self.depth =0\n",
        "      self.dec_tree = dict()\n",
        "      self.dec_tree = self.decision_tree(data,data,target_variable.name,max_depth,min_rssr,min_instances)\n",
        "\n",
        "    def RSS_split(self,input_data, feature_name,feature_value, target_name):\n",
        "      #calculate the total RSS after splitting for a particular feature value\n",
        "\n",
        "        if not pd.api.types.is_numeric_dtype(input_data[feature_name]):\n",
        "            return None\n",
        "        \n",
        "        mask = input_data[feature_name]<=feature_value\n",
        "        \n",
        "        class_1 = input_data[mask]\n",
        "        class_2 = input_data[~mask]\n",
        "        \n",
        "        rss_total = RSS(class_1[target_name])+RSS(class_2[target_name])\n",
        "\n",
        "        return rss_total\n",
        "    \n",
        "    def feature_split_point(self,input_data, feature_name,target_name):\n",
        "        #calculate the best split point for a particular feature\n",
        "\n",
        "        inp_df = input_data.sort_values(by=feature_name)        \n",
        "        unique_val = inp_df[feature_name].unique()\n",
        "\n",
        "        #array containing mean of adjacent values\n",
        "        split_candidates = [(unique_val[i] + unique_val[i+1])/2 for i in range(unique_val.shape[0]-1)]\n",
        "        \n",
        "        parent_rss = RSS(input_data[target_name])        \n",
        "        rss_min=parent_rss\n",
        "        best_split_value = None\n",
        "        \n",
        "        for value in split_candidates :\n",
        "            rss= self.RSS_split(inp_df,feature_name,value,target_name)\n",
        "            if rss<rss_min :\n",
        "                rss_min = rss\n",
        "                best_split_value = value\n",
        "        \n",
        "        return best_split_value,rss_min\n",
        "      \n",
        "    def best_split(self,input_data,target_name):\n",
        "      #calulate the best_split point for any sub-dataset\n",
        "  \n",
        "      best_feature = None\n",
        "      best_split_val = None\n",
        "      best_rss = RSS(input_data[target_name])\n",
        "\n",
        "      features = list(input_data.columns)\n",
        "      features.remove(target_name)\n",
        "\n",
        "      for feature in features:  \n",
        "        split_val, rss = self.feature_split_point(input_data,feature,target_name)\n",
        "\n",
        "        if split_val is not None and rss<best_rss : \n",
        "          best_rss = rss\n",
        "          best_split_val = split_val\n",
        "          best_feature = feature\n",
        "\n",
        "      return best_feature,best_split_val,best_rss\n",
        "    \n",
        "    def split_data(self,input_data,feature_name,feature_value):\n",
        "      #function to split the data into two halfs depending on the feature value\n",
        "      \n",
        "      if feature_name in input_data.columns : \n",
        "        mask = input_data[feature_name]<=feature_value\n",
        "        lhs_data = input_data[mask]\n",
        "        rhs_data = input_data[~mask]\n",
        "\n",
        "        return lhs_data,rhs_data\n",
        "      else:\n",
        "        return None\n",
        "    \n",
        "    def decision_tree(self, input_data, original_data,target_name,max_depth=float('inf'),curr_depth=0,min_instances=0,min_rssr=0, parent_node_mean = None):\n",
        "       \n",
        "        self.depth = max(self.depth,curr_depth)\n",
        "\n",
        "        if len(input_data)==0:\n",
        "          return np.mean(original_data[target_name])\n",
        "        \n",
        "        \n",
        "        elif len(input_data) <= min_instances :\n",
        "          return np.mean(input_data[target_name])\n",
        "\n",
        "        elif len(input_data.columns)==0 or curr_depth == max_depth :\n",
        "          return parent_node_mean\n",
        "\n",
        "        else:\n",
        "          parent_node_mean = np.mean(input_data[target_name])  \n",
        "          parent_rss = np.sum((input_data[target_name]-parent_node_mean)**2)\n",
        "\n",
        "          best_feature,best_split_val,best_rss = self.best_split(input_data,target_name)\n",
        "          \n",
        "          if best_feature is not None:  \n",
        "            if (parent_rss-best_rss) <min_rssr :\n",
        "              return parent_node_mean\n",
        "\n",
        "            tree = {(best_feature,best_split_val): []}\n",
        "            lhs,rhs = self.split_data(input_data,best_feature,best_split_val)\n",
        "            \n",
        "\n",
        "            sub_tree_1 = self.decision_tree(lhs,original_data,target_name,max_depth,curr_depth+1,min_instances,min_rssr,parent_node_mean)\n",
        "            sub_tree_2 = self.decision_tree(rhs,original_data,target_name,max_depth,curr_depth+1,min_instances,min_rssr,parent_node_mean)\n",
        "\n",
        "            \n",
        "            if type(sub_tree_1) == float and type(sub_tree_2) == float and sub_tree_1 ==sub_tree_2 :\n",
        "              return sub_tree_1\n",
        "\n",
        "            tree[(best_feature,best_split_val)].append(sub_tree_1)\n",
        "            tree[(best_feature,best_split_val)].append(sub_tree_2)\n",
        "\n",
        "            return tree\n",
        "            \n",
        "          else:\n",
        "            return parent_node_mean   \n",
        "    \n",
        "    def pred(self,X,columns,tree):\n",
        "      #function to predict the target value\n",
        "      \n",
        "      for attr in list(columns):  \n",
        "\n",
        "        features = [i[0] for i in list(tree.keys())]\n",
        "        if attr in features:\n",
        "          ind = features.index(attr)    \n",
        "          key = list(tree.keys())[ind]  \n",
        "          best_split_val = key[1]                  \n",
        "          \n",
        "          if X[attr]<=best_split_val:\n",
        "            answer = tree[key][0]\n",
        "          else:\n",
        "            answer = tree[key][1]\n",
        "\n",
        "          if type(answer)== float: \n",
        "            return answer\n",
        "          else:\n",
        "            return self.pred(X,columns,answer)\n",
        "\n",
        "    def predict(self,X) :\n",
        "      # apply pred function to the entire column\n",
        "      Y_pred = X.apply(self.pred, axis=1,args=(X.columns,self.dec_tree, )) \n",
        "      return Y_pred"
      ],
      "metadata": {
        "id": "-11frr0qcRBK"
      },
      "execution_count": 107,
      "outputs": []
    },
    {
      "cell_type": "code",
      "source": [
        "model = ID3_A_regressor()"
      ],
      "metadata": {
        "id": "steGxS2xdc1v"
      },
      "execution_count": 155,
      "outputs": []
    },
    {
      "cell_type": "code",
      "source": [
        "mask = df[\"new_cases\"]>0\n",
        "X = df[mask].drop(columns= [\"new_cases\"])\n",
        "Y = df.loc[mask,'new_cases']"
      ],
      "metadata": {
        "id": "wmnPILt4deHO"
      },
      "execution_count": 109,
      "outputs": []
    },
    {
      "cell_type": "code",
      "source": [
        "from sklearn.model_selection import train_test_split\n",
        "X_train, X_test, Y_train, Y_test = train_test_split(X, Y, test_size=0.30, random_state=42)\n",
        "print(len(X_train),len(Y_train),len(X_test),len(Y_test))"
      ],
      "metadata": {
        "colab": {
          "base_uri": "https://localhost:8080/"
        },
        "id": "j7umVKlVdjim",
        "outputId": "35d03868-7663-4ae3-d330-0a8bcd989dba"
      },
      "execution_count": 110,
      "outputs": [
        {
          "output_type": "stream",
          "name": "stdout",
          "text": [
            "317 317 137 137\n"
          ]
        }
      ]
    },
    {
      "cell_type": "code",
      "source": [
        "model.fit(X_train,Y_train,max_depth=6)"
      ],
      "metadata": {
        "id": "tmlK5tLzeQ3Z"
      },
      "execution_count": 156,
      "outputs": []
    },
    {
      "cell_type": "code",
      "source": [
        "print(model.dec_tree)\n",
        "print(model.depth)"
      ],
      "metadata": {
        "colab": {
          "base_uri": "https://localhost:8080/"
        },
        "id": "igOtt10_eUgM",
        "outputId": "c8dd54e1-73e0-4d01-ad2d-9ec0f1997f8b"
      },
      "execution_count": 157,
      "outputs": [
        {
          "output_type": "stream",
          "name": "stdout",
          "text": [
            "{('residential', 17.4285): [{('workplaces', -17.0): [{('grocery_and_pharmacy', 10.713999999999999): [{('retail_and_recreation', -57.357): [{('grocery_and_pharmacy', -6.5): [40729.7, 16462.51851851852]}, {('parks', -42.0715): [74974.81666666667, 31621.22]}]}, {('residential', 11.5715): [{('transit_stations', -14.285499999999999): [40005.75, 100011.57142857143]}, {('retail_and_recreation', -30.643): [237813.0, 184825.5]}]}]}, {('grocery_and_pharmacy', 18.4285): [{('retail_and_recreation', -14.857): [{('residential', 11.214500000000001): [13141.0, 22964.64285714286]}, {('grocery_and_pharmacy', 2.0): [13.0, 3.0]}]}, {('residential', 8.214500000000001): [{('residential', 7.785500000000001): [19526.0, 34557.0]}, {('grocery_and_pharmacy', 20.143): [50369.0, 63027.5]}]}]}]}, {('retail_and_recreation', -67.857): [{('residential', 27.5715): [{('retail_and_recreation', -76.0): [{('retail_and_recreation', -78.4285): [3674.1428571428573, 4864.0]}, {('retail_and_recreation', -71.0715): [6840.8, 8407.666666666666]}]}, {('grocery_and_pharmacy', -53.7855): [{('workplaces', -64.7145): [186.5, 764.875]}, {('grocery_and_pharmacy', -45.7855): [1484.090909090909, 2600.0]}]}]}, {('transit_stations', -46.7855): [{('parks', -43.7855): [{('retail_and_recreation', -64.7145): [263834.0, 338312.0]}, {('retail_and_recreation', -58.5715): [174258.8, 70.0]}]}, {('retail_and_recreation', -52.357): [{('retail_and_recreation', -57.786): [410008.0, 380485.0]}, {('retail_and_recreation', -42.2855): [344389.8333333333, 314644.0]}]}]}]}]}\n",
            "6\n"
          ]
        }
      ]
    },
    {
      "cell_type": "code",
      "source": [
        "Y_train_predict = model.predict(X_train)\n",
        "Y_train_predict"
      ],
      "metadata": {
        "colab": {
          "base_uri": "https://localhost:8080/"
        },
        "id": "QAemawV4etNt",
        "outputId": "889efa4e-d15b-451b-dad3-65dd8fd6f147"
      },
      "execution_count": 158,
      "outputs": [
        {
          "output_type": "execute_result",
          "data": {
            "text/plain": [
              "0       16462.518519\n",
              "1       31621.220000\n",
              "2      380485.000000\n",
              "3       16462.518519\n",
              "4       16462.518519\n",
              "           ...      \n",
              "312     16462.518519\n",
              "313     31621.220000\n",
              "314     13141.000000\n",
              "315    338312.000000\n",
              "316     16462.518519\n",
              "Length: 317, dtype: float64"
            ]
          },
          "metadata": {},
          "execution_count": 158
        }
      ]
    },
    {
      "cell_type": "code",
      "source": [
        "Y_test_predict = model.predict(X_test)\n",
        "Y_test_predict"
      ],
      "metadata": {
        "colab": {
          "base_uri": "https://localhost:8080/"
        },
        "id": "Wa0HytLiezvr",
        "outputId": "b2e2b4a8-0afa-4cc0-8232-e41aaa87549d"
      },
      "execution_count": 159,
      "outputs": [
        {
          "output_type": "execute_result",
          "data": {
            "text/plain": [
              "0       31621.220000\n",
              "1         764.875000\n",
              "2       13141.000000\n",
              "3       31621.220000\n",
              "4       74974.816667\n",
              "           ...      \n",
              "132     74974.816667\n",
              "133     74974.816667\n",
              "134      6840.800000\n",
              "135        13.000000\n",
              "136    338312.000000\n",
              "Length: 137, dtype: float64"
            ]
          },
          "metadata": {},
          "execution_count": 159
        }
      ]
    },
    {
      "cell_type": "code",
      "source": [
        "mse(Y_train, Y_train_predict), mse(Y_train, Y_train_predict) **.5,mse(Y_test, Y_test_predict), mse(Y_test, Y_test_predict) **.5"
      ],
      "metadata": {
        "colab": {
          "base_uri": "https://localhost:8080/"
        },
        "id": "U0-NSQc1e9t-",
        "outputId": "41f2b25b-424d-4d65-9f50-6141798028ea"
      },
      "execution_count": 160,
      "outputs": [
        {
          "output_type": "execute_result",
          "data": {
            "text/plain": [
              "(138036799.03051695, 11748.906290822008, 2157103312.1829724, 46444.62630039101)"
            ]
          },
          "metadata": {},
          "execution_count": 160
        }
      ]
    },
    {
      "cell_type": "code",
      "source": [
        "from sklearn.metrics import r2_score"
      ],
      "metadata": {
        "id": "f7GPuK4Uhd1e"
      },
      "execution_count": 116,
      "outputs": []
    },
    {
      "cell_type": "code",
      "source": [
        "r2_score(Y_test,Y_test_predict)"
      ],
      "metadata": {
        "colab": {
          "base_uri": "https://localhost:8080/"
        },
        "id": "di3Lfv7Xfjgs",
        "outputId": "aae7e9f2-5baf-4e03-cf55-1b692a01269d"
      },
      "execution_count": 161,
      "outputs": [
        {
          "output_type": "execute_result",
          "data": {
            "text/plain": [
              "0.763790761997418"
            ]
          },
          "metadata": {},
          "execution_count": 161
        }
      ]
    },
    {
      "cell_type": "code",
      "source": [
        "model_2 = CART_regressor()\n",
        "model_2.fit(X_train,Y_train,max_depth=9)\n",
        "print(model_2.dec_tree)\n",
        "print(model_2.depth)"
      ],
      "metadata": {
        "colab": {
          "base_uri": "https://localhost:8080/"
        },
        "id": "9luOsP6IfkK5",
        "outputId": "d777159e-70ba-43df-f115-8629e7fbda51"
      },
      "execution_count": 118,
      "outputs": [
        {
          "output_type": "stream",
          "name": "stdout",
          "text": [
            "{('residential', 17.4285): [{('workplaces', -17.0): [{('grocery_and_pharmacy', 10.713999999999999): [{('retail_and_recreation', -57.357): [{('grocery_and_pharmacy', -7.214): [{('retail_and_recreation', -64.5): [{('retail_and_recreation', -68.143): [8821.0, 9633.0]}, {('grocery_and_pharmacy', -9.785499999999999): [{('retail_and_recreation', -60.143): [44422.666666666664, 54130.0]}, {('retail_and_recreation', -59.5): [33825.5, 29429.0]}]}]}, {('retail_and_recreation', -58.857): [{('retail_and_recreation', -61.214): [{('retail_and_recreation', -64.0): [10651.0, 9706.333333333334]}, {('retail_and_recreation', -60.0715): [10930.0, 11715.5]}]}, {('transit_stations', -38.9285): [{('retail_and_recreation', -58.3575): [27408.666666666668, 23130.8]}, {('workplaces', -30.3575): [18023.166666666668, 13715.5]}]}]}]}, {('parks', -39.8575): [{('workplaces', -27.5715): [{('residential', 13.0715): [{('retail_and_recreation', -39.0): [65385.2, 75286.5]}, {('workplaces', -32.2145): [62824.666666666664, 57683.0]}]}, {('grocery_and_pharmacy', 3.643): [{('transit_stations', -28.357): [87132.32, 75896.375]}, {('retail_and_recreation', -33.929): [62335.5, 52591.25]}]}]}, {('parks', -28.857): [{('retail_and_recreation', -29.5): [{('grocery_and_pharmacy', 7.8575): [44681.25, 48738.333333333336]}, {('grocery_and_pharmacy', 7.6425): [36934.666666666664, 41550.28571428572]}]}, {('residential', 9.6425): [{('retail_and_recreation', -29.1425): [14545.0, 31673.75]}, {('retail_and_recreation', -31.5): [70.0, 15320.666666666666]}]}]}]}]}, {('residential', 11.5715): [{('transit_stations', -14.285499999999999): [{('residential', 10.9285): [{('retail_and_recreation', -26.9285): [{('residential', 10.6425): [44281.0, 45729.0]}, {('residential', 10.357): [44879.0, 39858.5]}]}, {('retail_and_recreation', -25.7145): [29163.0, 30548.0]}]}, {('parks', -15.5): [152879.0, {('grocery_and_pharmacy', 19.4285): [{('residential', 11.0715): [78219.66666666667, 98403.5]}, 115736.0]}]}]}, {('retail_and_recreation', -30.643): [{('retail_and_recreation', -33.7145): [261394.0, {('retail_and_recreation', -32.143): [234692.0, 217353.0]}]}, {('retail_and_recreation', -29.0): [200739.0, 168912.0]}]}]}]}, {('grocery_and_pharmacy', 18.4285): [{('parks', -6.5): [{('residential', 11.214500000000001): [{('workplaces', -14.143): [{('workplaces', -16.5): [{('residential', 10.285499999999999): [13598.0, 15590.0]}, {('parks', -11.0715): [11190.642857142857, 13037.0]}]}, {('transit_stations', -5.6425): [{('retail_and_recreation', -25.643): [12584.0, 14688.25]}, {('retail_and_recreation', -21.9285): [16659.333333333332, 17122.5]}]}]}, {('residential', 11.5): [{('grocery_and_pharmacy', 10.357): [{('retail_and_recreation', -26.643): [36867.0, 37256.0]}, 23067.0]}, {('parks', -15.0): [{('grocery_and_pharmacy', 9.713999999999999): [24143.5, 22180.333333333332]}, {('grocery_and_pharmacy', 9.857): [19152.0, 16439.5]}]}]}]}, {('grocery_and_pharmacy', 2.0): [{('residential', 2.2145): [23.0, {('workplaces', -8.714500000000001): [11.0, {('retail_and_recreation', -6.643): [6.0, 7.5]}]}]}, {('retail_and_recreation', -0.3575): [2.0, {('grocery_and_pharmacy', 4.0715): [3.0, 4.0]}]}]}]}, {('residential', 8.214500000000001): [{('residential', 7.785500000000001): [{('parks', -10.5715): [{('retail_and_recreation', -20.714): [{('retail_and_recreation', -21.286): [18284.0, 18676.5]}, {('retail_and_recreation', -20.4285): [15388.0, 17921.0]}]}, {('retail_and_recreation', -20.286): [24882.0, 22854.0]}]}, {('retail_and_recreation', -21.286): [{('grocery_and_pharmacy', 18.857): [35871.0, {('residential', 7.9285): [43846.0, 40834.0]}]}, {('retail_and_recreation', -20.9285): [28903.0, {('retail_and_recreation', -20.6425): [26291.0, 25320.0]}]}]}]}, {('grocery_and_pharmacy', 20.143): [{('retail_and_recreation', -21.5715): [47262.0, 53476.0]}, {('retail_and_recreation', -21.357): [68020.0, {('grocery_and_pharmacy', 20.5): [59118.0, {('retail_and_recreation', -20.9285): [62258.0, 62714.0]}]}]}]}]}]}]}, {('parks', -47.143): [{('grocery_and_pharmacy', -29.0715): [{('grocery_and_pharmacy', -45.7855): [{('grocery_and_pharmacy', -53.7855): [{('workplaces', -64.7145): [{('retail_and_recreation', -76.071): [146.0, 227.0]}, {('workplaces', -63.9285): [515.0, {('retail_and_recreation', -76.357): [735.6666666666666, 1190.0]}]}]}, {('workplaces', -60.2145): [{('retail_and_recreation', -81.0): [{('retail_and_recreation', -83.0): [1251.6666666666667, 1893.0]}, {('retail_and_recreation', -79.071): [1108.0, 1248.0]}]}, {('transit_stations', -66.0715): [{('retail_and_recreation', -85.7855): [1453.0, 1607.0]}, {('retail_and_recreation', -85.4285): [1730.0, 1801.0]}]}]}]}, {('retail_and_recreation', -84.5715): [{('retail_and_recreation', -85.0): [2394.0, 2806.0]}, {('retail_and_recreation', -80.357): [{('retail_and_recreation', -82.5): [{('retail_and_recreation', -83.5715): [3932.0, 3587.0]}, {('retail_and_recreation', -81.357): [3364.0, 3113.0]}]}, {('retail_and_recreation', -79.9285): [4353.0, {('retail_and_recreation', -79.357): [3607.0, 3763.0]}]}]}]}]}, {('residential', 19.7145): [{('retail_and_recreation', -71.0715): [{('retail_and_recreation', -71.5): [7293.0, 7300.0]}, {('retail_and_recreation', -70.2145): [{('retail_and_recreation', -70.643): [8105.0, 8336.0]}, 8782.0]}]}, {('retail_and_recreation', -76.0): [4864.0, {('retail_and_recreation', -73.0): [{('retail_and_recreation', -73.786): [6568.0, 6629.0]}, 6414.0]}]}]}]}, {('grocery_and_pharmacy', -24.3575): [{('retail_and_recreation', -61.9285): [{('parks', -44.7855): [{('retail_and_recreation', -64.8575): [{('parks', -45.0715): [{('retail_and_recreation', -65.5): [276110.0, 281386.0]}, {('grocery_and_pharmacy', -28.857): [257299.0, 263533.0]}]}, {('retail_and_recreation', -64.143): [311170.0, 326098.0]}]}, {('retail_and_recreation', -63.9285): [240842.0, {('retail_and_recreation', -62.714): [208921.0, 211298.0]}]}]}, {('retail_and_recreation', -59.786): [{('retail_and_recreation', -61.2145): [165553.0, 152734.0]}, 70.0]}]}, {('parks', -37.2855): [{('retail_and_recreation', -61.5715): [{('parks', -44.7855): [362727.0, {('retail_and_recreation', -62.786): [343144.0, 348421.0]}]}, {('retail_and_recreation', -57.786): [{('retail_and_recreation', -60.143): [403405.0, {('retail_and_recreation', -58.8575): [414188.0, 412431.0]}]}, {('retail_and_recreation', -52.357): [{('retail_and_recreation', -55.0): [369731.0, 401993.0]}, 360927.0]}]}]}, {('retail_and_recreation', -54.2855): [132788.0, {('retail_and_recreation', -42.2855): [{('retail_and_recreation', -49.214): [323023.0, {('retail_and_recreation', -43.7145): [349822.6666666667, 332921.0]}]}, 314644.0]}]}]}]}]}]}\n",
            "9\n"
          ]
        }
      ]
    },
    {
      "cell_type": "code",
      "source": [
        "Y_train_predict_cart = model_2.predict(X_train)\n",
        "mse(Y_train,Y_train_predict_cart),mse(Y_train,Y_train_predict_cart)**0.5,r2_score(Y_train,Y_train_predict_cart)"
      ],
      "metadata": {
        "colab": {
          "base_uri": "https://localhost:8080/"
        },
        "id": "aVSpLqgZhI8Q",
        "outputId": "186c04a7-1ba6-4e9a-a199-9514b93c4599"
      },
      "execution_count": 119,
      "outputs": [
        {
          "output_type": "execute_result",
          "data": {
            "text/plain": [
              "(12390227.189088937, 3519.975452909997, 0.9983924766542833)"
            ]
          },
          "metadata": {},
          "execution_count": 119
        }
      ]
    },
    {
      "cell_type": "code",
      "source": [
        "Y_test_predict_cart = model_2.predict(X_test)\n",
        "mse(Y_test,Y_test_predict_cart),mse(Y_test,Y_test_predict_cart)**0.5,r2_score(Y_test,Y_test_predict_cart)"
      ],
      "metadata": {
        "colab": {
          "base_uri": "https://localhost:8080/"
        },
        "id": "6Ch4R_DuhOAu",
        "outputId": "8c9f6ae1-03a8-43e3-f107-7c3fa745fe35"
      },
      "execution_count": 120,
      "outputs": [
        {
          "output_type": "execute_result",
          "data": {
            "text/plain": [
              "(2798655331.5846252, 52902.31877323172, 0.693538904895347)"
            ]
          },
          "metadata": {},
          "execution_count": 120
        }
      ]
    },
    {
      "cell_type": "code",
      "source": [
        "max_depths = [i+3 for i in range(10)]\n",
        "mdl = ID3_A_regressor()\n",
        "rmse_train = []\n",
        "rmse_test = []\n",
        "for max_depth in max_depths:\n",
        "  mdl.fit(X_train,Y_train,max_depth = max_depth)\n",
        "  rmse_train.append(mse(Y_train,mdl.predict(X_train))**.5)\n",
        "  rmse_test.append(mse(Y_test,mdl.predict(X_test))**.5)\n",
        "plt.plot(max_depths,rmse_test,'r')\n",
        "plt.plot(max_depths,rmse_train,'g')"
      ],
      "metadata": {
        "colab": {
          "base_uri": "https://localhost:8080/",
          "height": 284
        },
        "id": "BJpZ9bmCFRAw",
        "outputId": "34c5581c-9549-4bdd-fba7-080b787afde6"
      },
      "execution_count": 140,
      "outputs": [
        {
          "output_type": "execute_result",
          "data": {
            "text/plain": [
              "[<matplotlib.lines.Line2D at 0x7fca0822c9d0>]"
            ]
          },
          "metadata": {},
          "execution_count": 140
        },
        {
          "output_type": "display_data",
          "data": {
            "text/plain": [
              "<Figure size 432x288 with 1 Axes>"
            ],
            "image/png": "[encoded data removed]"
          },
          "metadata": {
            "needs_background": "light"
          }
        }
      ]
    },
    {
      "cell_type": "code",
      "source": [
        "m_inst = [30-5*i for i in range(6)]\n",
        "mdl = ID3_A_regressor()\n",
        "rmse_train = []\n",
        "rmse_test = []\n",
        "for min_instances in m_inst:\n",
        "  mdl.fit(X_train,Y_train,min_instances=min_instances)\n",
        "  rmse_train.append(mse(Y_train,mdl.predict(X_train))**.5)\n",
        "  rmse_test.append(mse(Y_test,mdl.predict(X_test))**.5)\n",
        "\n",
        "\n"
      ],
      "metadata": {
        "id": "66n6bTY0IKQx"
      },
      "execution_count": null,
      "outputs": []
    },
    {
      "cell_type": "code",
      "source": [
        "plt.plot(m_inst,rmse_test,'r')\n",
        "plt.plot(m_inst,rmse_train,'g')\n",
        "plt.axis([30,5,0,60000])\n",
        "plt.show()"
      ],
      "metadata": {
        "colab": {
          "base_uri": "https://localhost:8080/",
          "height": 269
        },
        "id": "fsYrCTrFMWBd",
        "outputId": "35cc05de-6e2f-4df5-8f00-c83f9128c5f7"
      },
      "execution_count": 153,
      "outputs": [
        {
          "output_type": "display_data",
          "data": {
            "text/plain": [
              "<Figure size 432x288 with 1 Axes>"
            ],
            "image/png": "[encoded data removed]"
          },
          "metadata": {
            "needs_background": "light"
          }
        }
      ]
    },
    {
      "cell_type": "code",
      "source": [
        "from numpy.linalg import norm\n",
        "\n",
        "\n",
        "class Kmeans:\n",
        "\n",
        "    def __init__(self, n_clusters=3, max_iter=500, metric=\"euclidean\", random_state = 134):\n",
        "        self.n_clusters = n_clusters\n",
        "        self.max_iter = max_iter\n",
        "        self.metric = metric\n",
        "        self.random_state = random_state\n",
        "\n",
        "    def initialize_centroids(self, X):\n",
        "        np.random.RandomState(self.random_state)\n",
        "        random_idx = np.random.permutation(X.shape[0])\n",
        "        centroids = X[random_idx[:self.n_clusters]]\n",
        "        return centroids\n",
        "\n",
        "    def compute_centroids(self, X, labels):\n",
        "        centroids = np.zeros((self.n_clusters, X.shape[1]))\n",
        "        for k in range(self.n_clusters):\n",
        "            centroids[k, :] = np.mean(X[labels == k, :], axis=0)\n",
        "        return centroids\n",
        "\n",
        "    def compute_distance(self, X, centroids, metric):\n",
        "        distance = np.zeros((X.shape[0], self.n_clusters))\n",
        "        if(metric == 'euclidean'):\n",
        "          for k in range(self.n_clusters):\n",
        "              row_norm = norm(X - centroids[k, :], axis=1)\n",
        "              distance[:, k] = np.square(row_norm)\n",
        "        elif(metric == 'manhattan'):\n",
        "          for k in range(self.n_clusters):\n",
        "              diff = X - centroids[k, :]\n",
        "              distance[:, k] = np.sum(abs(diff),axis=1)\n",
        "        return distance\n",
        "\n",
        "    def find_closest_cluster(self, distance):\n",
        "        return np.argmin(distance, axis=1)\n",
        "\n",
        "    def compute_sse(self, X, labels, centroids):\n",
        "        distance = np.zeros(X.shape[0])\n",
        "        for k in range(self.n_clusters):\n",
        "            distance[labels == k] = norm(X[labels == k] - centroids[k], axis=1)\n",
        "        return np.sum(np.square(distance))\n",
        "    \n",
        "    def fit(self, X):\n",
        "        self.centroids = self.initialize_centroids(X)\n",
        "        for i in range(self.max_iter):\n",
        "            old_centroids = self.centroids\n",
        "            distance = self.compute_distance(X, old_centroids, self.metric)\n",
        "            self.labels = self.find_closest_cluster(distance)\n",
        "            self.centroids = self.compute_centroids(X, self.labels)\n",
        "            if np.all(old_centroids == self.centroids):\n",
        "                break\n",
        "        self.error = self.compute_sse(X, self.labels, self.centroids)\n",
        "  \n",
        "\n",
        "    def predict(self, X):\n",
        "        distance = self.compute_distance(X, self.centroids,self.metric)\n",
        "        return self.find_closest_cluster(distance)"
      ],
      "metadata": {
        "id": "01ne-ohyh8Ge"
      },
      "execution_count": 121,
      "outputs": []
    },
    {
      "cell_type": "code",
      "source": [
        "k_values = [i+1 for i in range(8)]\n",
        "wcss_values_euc = []\n",
        "wcss_values_manh = []\n",
        "\n",
        "for k in k_values:\n",
        "  kmodel = Kmeans(metric = 'manhattan',n_clusters = k,max_iter=10000)\n",
        "  kmodel.fit(np.array(X_train))\n",
        "  wcss_values_manh.append(kmodel.compute_sse(np.array(X_train),kmodel.labels, kmodel.centroids))\n",
        "for k in k_values:\n",
        "  kmodel = Kmeans(metric = 'euclidean',n_clusters = k,max_iter=10000)\n",
        "  kmodel.fit(np.array(X_train))\n",
        "  wcss_values_euc.append(kmodel.compute_sse(np.array(X_train),kmodel.labels, kmodel.centroids))\n",
        "\n",
        "plt.plot(k_values,wcss_values_manh,'y')\n",
        "plt.plot(k_values,wcss_values_euc,'b')"
      ],
      "metadata": {
        "colab": {
          "base_uri": "https://localhost:8080/",
          "height": 283
        },
        "id": "YlNch5MTh9k_",
        "outputId": "7ac8267f-7433-45e2-b6ab-039f5bc5f558"
      },
      "execution_count": 122,
      "outputs": [
        {
          "output_type": "execute_result",
          "data": {
            "text/plain": [
              "[<matplotlib.lines.Line2D at 0x7fca08315090>]"
            ]
          },
          "metadata": {},
          "execution_count": 122
        },
        {
          "output_type": "display_data",
          "data": {
            "text/plain": [
              "<Figure size 432x288 with 1 Axes>"
            ],
            "image/png": "[encoded data removed]"
          },
          "metadata": {
            "needs_background": "light"
          }
        }
      ]
    },
    {
      "cell_type": "code",
      "source": [
        "class forest():\n",
        "\n",
        "  def __init__(self,tree_class,n_trees=3,max_depth= 5,min_instances=10,tol = 0):\n",
        "    self.tree_class = tree_class\n",
        "    self.n_trees = n_trees\n",
        "    self.max_depth = max_depth\n",
        "    self.min_instances = min_instances\n",
        "    self.tol = tol\n",
        "    self.trees = []\n",
        "    self.labels = None\n",
        "    self.clustering_model = None\n",
        "\n",
        "  def fit_dec_tree(self,X,y):\n",
        "    model = self.tree_class()\n",
        "    model.fit(X,y,self.max_depth, self.tol, self.min_instances)\n",
        "    return model\n",
        "\n",
        "  def fit(self,X,y,clustering_metric = 'euclidean',max_iter=500):\n",
        "    self.clustering_model = Kmeans(metric = clustering_metric,n_clusters = self.n_trees,max_iter=max_iter)\n",
        "    self.clustering_model.fit(np.array(X))\n",
        "    self.labels = self.clustering_model.predict(np.array(X))\n",
        "    self.trees = [self.fit_dec_tree(X,y) for i in range(self.n_trees)]\n",
        "\n",
        "  def predict(self,X):\n",
        "    y_pred = []\n",
        "    closest_cluster = self.clustering_model.predict(np.array(X))\n",
        "    for i in range(X.shape[0]):\n",
        "      trial = self.trees[closest_cluster[i]].predict(X.iloc[[i]])\n",
        "      y_pred.append(trial[i])\n",
        "    return y_pred"
      ],
      "metadata": {
        "id": "JVvxofl8iA0S"
      },
      "execution_count": 123,
      "outputs": []
    },
    {
      "cell_type": "code",
      "source": [
        "X_train = X_train.reset_index(drop=True)\n",
        "Y_train = Y_train.reset_index(drop=True)"
      ],
      "metadata": {
        "id": "QIWnAjwSiDH9"
      },
      "execution_count": 124,
      "outputs": []
    },
    {
      "cell_type": "code",
      "source": [
        "cart_forest = forest(CART_regressor,n_trees = 3,max_depth = 10)\n",
        "cart_forest.fit(X_train,Y_train,max_iter=3000)\n",
        "y_cart_forest_train_pred = cart_forest.predict(X_train)\n"
      ],
      "metadata": {
        "id": "uuG5-uZ_iKU7"
      },
      "execution_count": 125,
      "outputs": []
    },
    {
      "cell_type": "code",
      "source": [
        "mse(Y_train,y_cart_forest_train_pred)**0.5"
      ],
      "metadata": {
        "colab": {
          "base_uri": "https://localhost:8080/"
        },
        "id": "uFTmC7zaiLsH",
        "outputId": "778fe3be-44b8-45fc-eac3-159eb332f519"
      },
      "execution_count": 126,
      "outputs": [
        {
          "output_type": "execute_result",
          "data": {
            "text/plain": [
              "16614.473829490147"
            ]
          },
          "metadata": {},
          "execution_count": 126
        }
      ]
    },
    {
      "cell_type": "code",
      "source": [
        "id3_a_forest = forest(ID3_A_regressor,n_trees = 3,max_depth = 10)\n",
        "id3_a_forest.fit(X_train,Y_train,max_iter=3000)\n",
        "y_id3_a_forest_train_pred = id3_a_forest.predict(X_train)"
      ],
      "metadata": {
        "id": "iB6j8WUYI20g"
      },
      "execution_count": 127,
      "outputs": []
    },
    {
      "cell_type": "code",
      "source": [
        "mse(Y_train,y_id3_a_forest_train_pred)**0.5"
      ],
      "metadata": {
        "colab": {
          "base_uri": "https://localhost:8080/"
        },
        "id": "-km4fAEQI3SO",
        "outputId": "748af193-3f00-4c17-a1f5-b4edbdf0c20e"
      },
      "execution_count": 128,
      "outputs": [
        {
          "output_type": "execute_result",
          "data": {
            "text/plain": [
              "14287.405786583082"
            ]
          },
          "metadata": {},
          "execution_count": 128
        }
      ]
    },
    {
      "cell_type": "code",
      "source": [
        "X_test = X_test.reset_index(drop=True)\n",
        "Y_test = Y_test.reset_index(drop=True)"
      ],
      "metadata": {
        "id": "AVHUxmfPI54H"
      },
      "execution_count": 129,
      "outputs": []
    },
    {
      "cell_type": "code",
      "source": [
        "y_test_cart_forest_pred = cart_forest.predict(X_test)\n",
        "r2_score(Y_test, y_test_cart_forest_pred)"
      ],
      "metadata": {
        "colab": {
          "base_uri": "https://localhost:8080/"
        },
        "id": "7ikm7ImXJC4a",
        "outputId": "dc8a357a-f7ba-4755-f48c-674bfced066e"
      },
      "execution_count": 130,
      "outputs": [
        {
          "output_type": "execute_result",
          "data": {
            "text/plain": [
              "0.6976824398269805"
            ]
          },
          "metadata": {},
          "execution_count": 130
        }
      ]
    },
    {
      "cell_type": "code",
      "source": [
        "y_test_id3_a_forest_pred = id3_a_forest.predict(X_test)\n",
        "r2_score(Y_test, y_test_id3_a_forest_pred)"
      ],
      "metadata": {
        "colab": {
          "base_uri": "https://localhost:8080/"
        },
        "id": "IhrKIHSPJIws",
        "outputId": "b39f312a-d8ec-4b15-8a39-727a2b2d96f1"
      },
      "execution_count": 131,
      "outputs": [
        {
          "output_type": "execute_result",
          "data": {
            "text/plain": [
              "0.7318993739112811"
            ]
          },
          "metadata": {},
          "execution_count": 131
        }
      ]
    },
    {
      "cell_type": "code",
      "source": [
        "# K Fold Cross Validation\n",
        "\n",
        "class k_fold:\n",
        "    \n",
        "    def __init__(self):\n",
        "        pass\n",
        "    \n",
        "    \n",
        "    def cross(self, df):\n",
        "        k=5\n",
        "        min_key = 5\n",
        "\n",
        "        \n",
        "        fig = plt.figure()\n",
        "        plt.xlabel('No. of splits')\n",
        "        plt.ylabel('Error')\n",
        "        \n",
        "        while(k<=len(df)):\n",
        "            self.n_splits = k\n",
        "            n= (len(df) // self.n_splits)\n",
        "            total_error = 0\n",
        "            \n",
        "            for i in range(self.n_splits):\n",
        "                validation = df[(i*n):((i+1)*n)]\n",
        "                train = pd.concat([df[:(i*n)],df[((i+1)*n):]])\n",
        "                total_error += self.model(train ,validation)\n",
        "            \n",
        "            \n",
        "            total_error = total_error/k\n",
        "\n",
        "            if(k==5):\n",
        "            \tmin_error = total_error\n",
        "            else:\n",
        "            \tif(total_error<min_error):\n",
        "            \t\tmin_error = total_error\n",
        "            \t\tmin_key = k\n",
        "\n",
        "            fig = plt.scatter(k,total_error,color='g')\n",
        "            k= k+1\n",
        "        \n",
        "        return (fig,min_key,min_error)    \n",
        "\n",
        "\n",
        "    \n",
        "    def model(self, train, validation):\n",
        "\n",
        "        train_x = np.array(train.iloc[:,:-1])\n",
        "        train_y = train.iloc[:,-1]\n",
        "\n",
        "        validation_x = np.array(validation.iloc[:,:-1])\n",
        "        validation_y = validation.iloc[:,-1]\n",
        "        \n",
        "\n",
        "        #Making estimates from the validation set\n",
        "        from sklearn.linear_model import LinearRegression\n",
        "        clf = LinearRegression()\n",
        "        clf.fit(train_x,train_y)\n",
        "        pred_y = clf.predict(validation_x)\n",
        "        \n",
        "        error = np.square(np.subtract(validation_y,pred_y)).mean()\n",
        "        return error"
      ],
      "metadata": {
        "id": "Tw_DGyheJP7z"
      },
      "execution_count": 132,
      "outputs": []
    },
    {
      "cell_type": "code",
      "source": [
        "class model:\n",
        "    \n",
        "    def __init__(self):\n",
        "        pass\n",
        "    \n",
        "    def algo(self, train_data, test_data):\n",
        "        \n",
        "        k_cross = k_fold()\n",
        "        plot, correct_K, correct_error = k_cross.cross(train_data)\n",
        "\n",
        "        print(\"Estimated Error Rate = \",correct_error,\" with K = \",correct_K)\n",
        "        plt.show(plot)\n",
        "\n",
        "        train_x = np.array(train_data.iloc[:,:-1])\n",
        "        train_y = train_data.iloc[:,-1]\n",
        "        test_x = np.array(test_data.iloc[:,:-1])\n",
        "        test_y = test_data.iloc[:,-1]\n",
        "\n",
        "        from sklearn.linear_model import LinearRegression\n",
        "        clf = LinearRegression()\n",
        "        clf.fit(train_x,train_y)\n",
        "        pred_y = clf.predict(test_x)\n",
        "\n",
        "        actual_error_rate = np.square(np.subtract(test_y,pred_y)).mean()\n",
        "        print(\"Actual Error Rate  = \",actual_error_rate)"
      ],
      "metadata": {
        "id": "E8kkLJ3LJRMB"
      },
      "execution_count": 135,
      "outputs": []
    },
    {
      "cell_type": "code",
      "source": [
        "cross_validation = model()\n",
        "\n",
        "#Dividing the train and test data\n",
        "train = df.iloc[:20,:]\n",
        "test = df.iloc[20:,:]\n",
        "\n",
        "cross_validation.algo(train, test)"
      ],
      "metadata": {
        "colab": {
          "base_uri": "https://localhost:8080/",
          "height": 314
        },
        "id": "OyV3SnUZJb8C",
        "outputId": "a97c69b9-977e-43d2-bd12-c3343ab9c578"
      },
      "execution_count": 136,
      "outputs": [
        {
          "output_type": "stream",
          "name": "stdout",
          "text": [
            "Estimated Error Rate =  8.773305817059923  with K =  15\n"
          ]
        },
        {
          "output_type": "display_data",
          "data": {
            "text/plain": [
              "<Figure size 432x288 with 1 Axes>"
            ],
            "image/png": "[encoded data removed]"
          },
          "metadata": {
            "needs_background": "light"
          }
        },
        {
          "output_type": "stream",
          "name": "stdout",
          "text": [
            "Actual Error Rate  =  12126584091.240128\n"
          ]
        }
      ]
    }
  ]
}